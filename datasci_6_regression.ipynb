{
  "nbformat": 4,
  "nbformat_minor": 0,
  "metadata": {
    "colab": {
      "provenance": [],
      "authorship_tag": "ABX9TyNCCFgemuiRNb0o41Hyvt8R",
      "include_colab_link": true
    },
    "kernelspec": {
      "name": "python3",
      "display_name": "Python 3"
    },
    "language_info": {
      "name": "python"
    }
  },
  "cells": [
    {
      "cell_type": "markdown",
      "metadata": {
        "id": "view-in-github",
        "colab_type": "text"
      },
      "source": [
        "<a href=\"https://colab.research.google.com/github/nimratmann/datasci_6_regression/blob/main/datasci_6_regression.ipynb\" target=\"_parent\"><img src=\"https://colab.research.google.com/assets/colab-badge.svg\" alt=\"Open In Colab\"/></a>"
      ]
    },
    {
      "cell_type": "markdown",
      "source": [
        "# Loading Packages"
      ],
      "metadata": {
        "id": "28jFfM7xPo8K"
      }
    },
    {
      "cell_type": "code",
      "execution_count": 1,
      "metadata": {
        "colab": {
          "base_uri": "https://localhost:8080/"
        },
        "id": "wQAV8FKvPdKV",
        "outputId": "c10c7430-f281-42f0-cba4-b926bd9cb412"
      },
      "outputs": [
        {
          "output_type": "stream",
          "name": "stdout",
          "text": [
            "Collecting ucimlrepo\n",
            "  Downloading ucimlrepo-0.0.3-py3-none-any.whl (7.0 kB)\n",
            "Installing collected packages: ucimlrepo\n",
            "Successfully installed ucimlrepo-0.0.3\n"
          ]
        }
      ],
      "source": [
        "!pip install ucimlrepo"
      ]
    },
    {
      "cell_type": "code",
      "source": [
        "from ucimlrepo import fetch_ucirepo\n",
        "import pandas as pd\n",
        "import statsmodels.api as sm\n",
        "import matplotlib.pyplot as plt\n",
        "import seaborn as sns\n",
        "from scipy import stats\n",
        "\n",
        "from statsmodels.stats.diagnostic import linear_rainbow\n",
        "from scipy.stats import shapiro\n",
        "from statsmodels.stats.diagnostic import het_goldfeldquandt\n",
        "from statsmodels.stats.outliers_influence import variance_inflation_factor\n",
        "import numpy as np"
      ],
      "metadata": {
        "id": "qVWUfJ8sPtxe"
      },
      "execution_count": 2,
      "outputs": []
    },
    {
      "cell_type": "markdown",
      "source": [
        "# Loading Dataset"
      ],
      "metadata": {
        "id": "iF7tiTfTQD80"
      }
    },
    {
      "cell_type": "code",
      "source": [
        "from ucimlrepo import fetch_ucirepo\n",
        "\n",
        "# fetch dataset\n",
        "rice_cammeo_and_osmancik = fetch_ucirepo(id=545)\n",
        "\n",
        "# data (as pandas dataframes)\n",
        "X = rice_cammeo_and_osmancik.data.features\n",
        "y = rice_cammeo_and_osmancik.data.targets\n",
        "\n",
        "# metadata\n",
        "print(rice_cammeo_and_osmancik.metadata)\n",
        "\n",
        "# variable information\n",
        "print(rice_cammeo_and_osmancik.variables)\n"
      ],
      "metadata": {
        "colab": {
          "base_uri": "https://localhost:8080/"
        },
        "id": "Goup24EtQFN9",
        "outputId": "5f40246f-dff4-446d-b5e2-dcd09e42f46d"
      },
      "execution_count": 67,
      "outputs": [
        {
          "output_type": "stream",
          "name": "stdout",
          "text": [
            "{'uci_id': 545, 'name': 'Rice (Cammeo and Osmancik)', 'repository_url': 'https://archive.ics.uci.edu/dataset/545/rice+cammeo+and+osmancik', 'data_url': 'https://archive.ics.uci.edu/static/public/545/data.csv', 'abstract': \"A total of 3810 rice grain's images were taken for the two species, processed and feature inferences were made. 7 morphological features were obtained for each grain of rice.\", 'area': 'Biology', 'tasks': ['Classification'], 'characteristics': ['Multivariate'], 'num_instances': 3810, 'num_features': 7, 'feature_types': ['Real'], 'demographics': [], 'target_col': ['Class'], 'index_col': None, 'has_missing_values': 'no', 'missing_values_symbol': None, 'year_of_dataset_creation': 2019, 'last_updated': 'Fri Nov 03 2023', 'dataset_doi': '10.24432/C5MW4Z', 'creators': [], 'intro_paper': {'title': 'Classification of Rice Varieties Using Artificial Intelligence Methods', 'authors': 'Ilkay Cinar, M. Koklu', 'published_in': 'International Journal of Intelligent Systems and Applications in Engineering', 'year': 2019, 'url': 'https://www.semanticscholar.org/paper/4e508bb906c8fdc04ead6f20bd8918fcb3605d1c', 'doi': '10.18201/ijisae.2019355381'}, 'additional_info': {'summary': \"Among  the certified rice grown in TURKEY,  the  Osmancik species, which has a large planting area since 1997 and the Cammeo species grown since 2014 have been selected for the study.  When  looking  at  the  general  characteristics  of  Osmancik species, they have a wide, long, glassy and dull appearance.  When looking at the general characteristics of the Cammeo species, they have wide and long, glassy and dull in appearance.  A total of 3810 rice grain's images were taken for the two species, processed and feature inferences were made. 7 morphological features were obtained for each grain of rice. \", 'purpose': None, 'funded_by': None, 'instances_represent': None, 'recommended_data_splits': None, 'sensitive_data': None, 'preprocessing_description': None, 'variable_info': '1.) Area: Returns  the  number  of  pixels  within  the boundaries of the rice grain.\\r\\n2.) Perimeter: Calculates the circumference by calculating  the  distance  between  pixels around the boundaries of the rice grain.\\r\\n3.) Major Axis Length: The longest line that can be drawn on the rice  grain,  i.e.  the  main  axis  distance, gives.\\r\\n4.) Minor Axis Length: The shortest line that can be drawn on the rice  grain,  i.e.  the  small  axis  distance, gives.\\r\\n5.) Eccentricity: It measures how round the ellipse, which has  the  same  moments  as  the  rice  grain, is.\\r\\n6.) Convex Area: Returns  the  pixel  count  of  the  smallest convex shell of the region formed by the rice grain.\\r\\n7.) Extent: Returns the ratio of the regionformed by the rice grain to the bounding box pixels.\\r\\n8.) Class: Cammeo and Osmancik rices', 'citation': None}}\n",
            "                name     role        type demographic  \\\n",
            "0               Area  Feature     Integer        None   \n",
            "1          Perimeter  Feature  Continuous        None   \n",
            "2  Major_Axis_Length  Feature  Continuous        None   \n",
            "3  Minor_Axis_Length  Feature  Continuous        None   \n",
            "4       Eccentricity  Feature  Continuous        None   \n",
            "5        Convex_Area  Feature     Integer        None   \n",
            "6             Extent  Feature  Continuous        None   \n",
            "7              Class   Target      Binary        None   \n",
            "\n",
            "                                         description units missing_values  \n",
            "0  Returns the number of pixels within the bounda...    px             no  \n",
            "1  Calculates the circumference by calculating th...    px             no  \n",
            "2  The longest line that can be drawn on the rice...  None             no  \n",
            "3  The shortest line that can be drawn on the ric...  None             no  \n",
            "4  It measures how round the ellipse, which has t...  None             no  \n",
            "5  Returns the pixel count of the smallest convex...  None             no  \n",
            "6  Returns the ratio of the region formed by the ...  None             no  \n",
            "7                                Cammeo and Osmancik  None             no  \n"
          ]
        }
      ]
    },
    {
      "cell_type": "code",
      "source": [
        "df = pd.DataFrame(X)\n",
        "df"
      ],
      "metadata": {
        "colab": {
          "base_uri": "https://localhost:8080/",
          "height": 424
        },
        "id": "S0vGrVFqXu7G",
        "outputId": "b6db328c-4862-4491-947e-1ace1929ae57"
      },
      "execution_count": 68,
      "outputs": [
        {
          "output_type": "execute_result",
          "data": {
            "text/plain": [
              "       Area   Perimeter  Major_Axis_Length  Minor_Axis_Length  Eccentricity  \\\n",
              "0     15231  525.578979         229.749878          85.093788      0.928882   \n",
              "1     14656  494.311005         206.020065          91.730972      0.895405   \n",
              "2     14634  501.122009         214.106781          87.768288      0.912118   \n",
              "3     13176  458.342987         193.337387          87.448395      0.891861   \n",
              "4     14688  507.166992         211.743378          89.312454      0.906691   \n",
              "...     ...         ...                ...                ...           ...   \n",
              "3805  11441  415.858002         170.486771          85.756592      0.864280   \n",
              "3806  11625  421.390015         167.714798          89.462570      0.845850   \n",
              "3807  12437  442.498993         183.572922          86.801979      0.881144   \n",
              "3808   9882  392.296997         161.193985          78.210480      0.874406   \n",
              "3809  11434  404.709992         161.079269          90.868195      0.825692   \n",
              "\n",
              "      Convex_Area    Extent  \n",
              "0           15617  0.572896  \n",
              "1           15072  0.615436  \n",
              "2           14954  0.693259  \n",
              "3           13368  0.640669  \n",
              "4           15262  0.646024  \n",
              "...           ...       ...  \n",
              "3805        11628  0.681012  \n",
              "3806        11904  0.694279  \n",
              "3807        12645  0.626739  \n",
              "3808        10097  0.659064  \n",
              "3809        11591  0.802949  \n",
              "\n",
              "[3810 rows x 7 columns]"
            ],
            "text/html": [
              "\n",
              "  <div id=\"df-4b0af3c8-a1c2-4d51-b70e-ecea2914199f\" class=\"colab-df-container\">\n",
              "    <div>\n",
              "<style scoped>\n",
              "    .dataframe tbody tr th:only-of-type {\n",
              "        vertical-align: middle;\n",
              "    }\n",
              "\n",
              "    .dataframe tbody tr th {\n",
              "        vertical-align: top;\n",
              "    }\n",
              "\n",
              "    .dataframe thead th {\n",
              "        text-align: right;\n",
              "    }\n",
              "</style>\n",
              "<table border=\"1\" class=\"dataframe\">\n",
              "  <thead>\n",
              "    <tr style=\"text-align: right;\">\n",
              "      <th></th>\n",
              "      <th>Area</th>\n",
              "      <th>Perimeter</th>\n",
              "      <th>Major_Axis_Length</th>\n",
              "      <th>Minor_Axis_Length</th>\n",
              "      <th>Eccentricity</th>\n",
              "      <th>Convex_Area</th>\n",
              "      <th>Extent</th>\n",
              "    </tr>\n",
              "  </thead>\n",
              "  <tbody>\n",
              "    <tr>\n",
              "      <th>0</th>\n",
              "      <td>15231</td>\n",
              "      <td>525.578979</td>\n",
              "      <td>229.749878</td>\n",
              "      <td>85.093788</td>\n",
              "      <td>0.928882</td>\n",
              "      <td>15617</td>\n",
              "      <td>0.572896</td>\n",
              "    </tr>\n",
              "    <tr>\n",
              "      <th>1</th>\n",
              "      <td>14656</td>\n",
              "      <td>494.311005</td>\n",
              "      <td>206.020065</td>\n",
              "      <td>91.730972</td>\n",
              "      <td>0.895405</td>\n",
              "      <td>15072</td>\n",
              "      <td>0.615436</td>\n",
              "    </tr>\n",
              "    <tr>\n",
              "      <th>2</th>\n",
              "      <td>14634</td>\n",
              "      <td>501.122009</td>\n",
              "      <td>214.106781</td>\n",
              "      <td>87.768288</td>\n",
              "      <td>0.912118</td>\n",
              "      <td>14954</td>\n",
              "      <td>0.693259</td>\n",
              "    </tr>\n",
              "    <tr>\n",
              "      <th>3</th>\n",
              "      <td>13176</td>\n",
              "      <td>458.342987</td>\n",
              "      <td>193.337387</td>\n",
              "      <td>87.448395</td>\n",
              "      <td>0.891861</td>\n",
              "      <td>13368</td>\n",
              "      <td>0.640669</td>\n",
              "    </tr>\n",
              "    <tr>\n",
              "      <th>4</th>\n",
              "      <td>14688</td>\n",
              "      <td>507.166992</td>\n",
              "      <td>211.743378</td>\n",
              "      <td>89.312454</td>\n",
              "      <td>0.906691</td>\n",
              "      <td>15262</td>\n",
              "      <td>0.646024</td>\n",
              "    </tr>\n",
              "    <tr>\n",
              "      <th>...</th>\n",
              "      <td>...</td>\n",
              "      <td>...</td>\n",
              "      <td>...</td>\n",
              "      <td>...</td>\n",
              "      <td>...</td>\n",
              "      <td>...</td>\n",
              "      <td>...</td>\n",
              "    </tr>\n",
              "    <tr>\n",
              "      <th>3805</th>\n",
              "      <td>11441</td>\n",
              "      <td>415.858002</td>\n",
              "      <td>170.486771</td>\n",
              "      <td>85.756592</td>\n",
              "      <td>0.864280</td>\n",
              "      <td>11628</td>\n",
              "      <td>0.681012</td>\n",
              "    </tr>\n",
              "    <tr>\n",
              "      <th>3806</th>\n",
              "      <td>11625</td>\n",
              "      <td>421.390015</td>\n",
              "      <td>167.714798</td>\n",
              "      <td>89.462570</td>\n",
              "      <td>0.845850</td>\n",
              "      <td>11904</td>\n",
              "      <td>0.694279</td>\n",
              "    </tr>\n",
              "    <tr>\n",
              "      <th>3807</th>\n",
              "      <td>12437</td>\n",
              "      <td>442.498993</td>\n",
              "      <td>183.572922</td>\n",
              "      <td>86.801979</td>\n",
              "      <td>0.881144</td>\n",
              "      <td>12645</td>\n",
              "      <td>0.626739</td>\n",
              "    </tr>\n",
              "    <tr>\n",
              "      <th>3808</th>\n",
              "      <td>9882</td>\n",
              "      <td>392.296997</td>\n",
              "      <td>161.193985</td>\n",
              "      <td>78.210480</td>\n",
              "      <td>0.874406</td>\n",
              "      <td>10097</td>\n",
              "      <td>0.659064</td>\n",
              "    </tr>\n",
              "    <tr>\n",
              "      <th>3809</th>\n",
              "      <td>11434</td>\n",
              "      <td>404.709992</td>\n",
              "      <td>161.079269</td>\n",
              "      <td>90.868195</td>\n",
              "      <td>0.825692</td>\n",
              "      <td>11591</td>\n",
              "      <td>0.802949</td>\n",
              "    </tr>\n",
              "  </tbody>\n",
              "</table>\n",
              "<p>3810 rows × 7 columns</p>\n",
              "</div>\n",
              "    <div class=\"colab-df-buttons\">\n",
              "\n",
              "  <div class=\"colab-df-container\">\n",
              "    <button class=\"colab-df-convert\" onclick=\"convertToInteractive('df-4b0af3c8-a1c2-4d51-b70e-ecea2914199f')\"\n",
              "            title=\"Convert this dataframe to an interactive table.\"\n",
              "            style=\"display:none;\">\n",
              "\n",
              "  <svg xmlns=\"http://www.w3.org/2000/svg\" height=\"24px\" viewBox=\"0 -960 960 960\">\n",
              "    <path d=\"M120-120v-720h720v720H120Zm60-500h600v-160H180v160Zm220 220h160v-160H400v160Zm0 220h160v-160H400v160ZM180-400h160v-160H180v160Zm440 0h160v-160H620v160ZM180-180h160v-160H180v160Zm440 0h160v-160H620v160Z\"/>\n",
              "  </svg>\n",
              "    </button>\n",
              "\n",
              "  <style>\n",
              "    .colab-df-container {\n",
              "      display:flex;\n",
              "      gap: 12px;\n",
              "    }\n",
              "\n",
              "    .colab-df-convert {\n",
              "      background-color: #E8F0FE;\n",
              "      border: none;\n",
              "      border-radius: 50%;\n",
              "      cursor: pointer;\n",
              "      display: none;\n",
              "      fill: #1967D2;\n",
              "      height: 32px;\n",
              "      padding: 0 0 0 0;\n",
              "      width: 32px;\n",
              "    }\n",
              "\n",
              "    .colab-df-convert:hover {\n",
              "      background-color: #E2EBFA;\n",
              "      box-shadow: 0px 1px 2px rgba(60, 64, 67, 0.3), 0px 1px 3px 1px rgba(60, 64, 67, 0.15);\n",
              "      fill: #174EA6;\n",
              "    }\n",
              "\n",
              "    .colab-df-buttons div {\n",
              "      margin-bottom: 4px;\n",
              "    }\n",
              "\n",
              "    [theme=dark] .colab-df-convert {\n",
              "      background-color: #3B4455;\n",
              "      fill: #D2E3FC;\n",
              "    }\n",
              "\n",
              "    [theme=dark] .colab-df-convert:hover {\n",
              "      background-color: #434B5C;\n",
              "      box-shadow: 0px 1px 3px 1px rgba(0, 0, 0, 0.15);\n",
              "      filter: drop-shadow(0px 1px 2px rgba(0, 0, 0, 0.3));\n",
              "      fill: #FFFFFF;\n",
              "    }\n",
              "  </style>\n",
              "\n",
              "    <script>\n",
              "      const buttonEl =\n",
              "        document.querySelector('#df-4b0af3c8-a1c2-4d51-b70e-ecea2914199f button.colab-df-convert');\n",
              "      buttonEl.style.display =\n",
              "        google.colab.kernel.accessAllowed ? 'block' : 'none';\n",
              "\n",
              "      async function convertToInteractive(key) {\n",
              "        const element = document.querySelector('#df-4b0af3c8-a1c2-4d51-b70e-ecea2914199f');\n",
              "        const dataTable =\n",
              "          await google.colab.kernel.invokeFunction('convertToInteractive',\n",
              "                                                    [key], {});\n",
              "        if (!dataTable) return;\n",
              "\n",
              "        const docLinkHtml = 'Like what you see? Visit the ' +\n",
              "          '<a target=\"_blank\" href=https://colab.research.google.com/notebooks/data_table.ipynb>data table notebook</a>'\n",
              "          + ' to learn more about interactive tables.';\n",
              "        element.innerHTML = '';\n",
              "        dataTable['output_type'] = 'display_data';\n",
              "        await google.colab.output.renderOutput(dataTable, element);\n",
              "        const docLink = document.createElement('div');\n",
              "        docLink.innerHTML = docLinkHtml;\n",
              "        element.appendChild(docLink);\n",
              "      }\n",
              "    </script>\n",
              "  </div>\n",
              "\n",
              "\n",
              "<div id=\"df-f04650da-b544-44c5-a117-b8a873945c48\">\n",
              "  <button class=\"colab-df-quickchart\" onclick=\"quickchart('df-f04650da-b544-44c5-a117-b8a873945c48')\"\n",
              "            title=\"Suggest charts\"\n",
              "            style=\"display:none;\">\n",
              "\n",
              "<svg xmlns=\"http://www.w3.org/2000/svg\" height=\"24px\"viewBox=\"0 0 24 24\"\n",
              "     width=\"24px\">\n",
              "    <g>\n",
              "        <path d=\"M19 3H5c-1.1 0-2 .9-2 2v14c0 1.1.9 2 2 2h14c1.1 0 2-.9 2-2V5c0-1.1-.9-2-2-2zM9 17H7v-7h2v7zm4 0h-2V7h2v10zm4 0h-2v-4h2v4z\"/>\n",
              "    </g>\n",
              "</svg>\n",
              "  </button>\n",
              "\n",
              "<style>\n",
              "  .colab-df-quickchart {\n",
              "      --bg-color: #E8F0FE;\n",
              "      --fill-color: #1967D2;\n",
              "      --hover-bg-color: #E2EBFA;\n",
              "      --hover-fill-color: #174EA6;\n",
              "      --disabled-fill-color: #AAA;\n",
              "      --disabled-bg-color: #DDD;\n",
              "  }\n",
              "\n",
              "  [theme=dark] .colab-df-quickchart {\n",
              "      --bg-color: #3B4455;\n",
              "      --fill-color: #D2E3FC;\n",
              "      --hover-bg-color: #434B5C;\n",
              "      --hover-fill-color: #FFFFFF;\n",
              "      --disabled-bg-color: #3B4455;\n",
              "      --disabled-fill-color: #666;\n",
              "  }\n",
              "\n",
              "  .colab-df-quickchart {\n",
              "    background-color: var(--bg-color);\n",
              "    border: none;\n",
              "    border-radius: 50%;\n",
              "    cursor: pointer;\n",
              "    display: none;\n",
              "    fill: var(--fill-color);\n",
              "    height: 32px;\n",
              "    padding: 0;\n",
              "    width: 32px;\n",
              "  }\n",
              "\n",
              "  .colab-df-quickchart:hover {\n",
              "    background-color: var(--hover-bg-color);\n",
              "    box-shadow: 0 1px 2px rgba(60, 64, 67, 0.3), 0 1px 3px 1px rgba(60, 64, 67, 0.15);\n",
              "    fill: var(--button-hover-fill-color);\n",
              "  }\n",
              "\n",
              "  .colab-df-quickchart-complete:disabled,\n",
              "  .colab-df-quickchart-complete:disabled:hover {\n",
              "    background-color: var(--disabled-bg-color);\n",
              "    fill: var(--disabled-fill-color);\n",
              "    box-shadow: none;\n",
              "  }\n",
              "\n",
              "  .colab-df-spinner {\n",
              "    border: 2px solid var(--fill-color);\n",
              "    border-color: transparent;\n",
              "    border-bottom-color: var(--fill-color);\n",
              "    animation:\n",
              "      spin 1s steps(1) infinite;\n",
              "  }\n",
              "\n",
              "  @keyframes spin {\n",
              "    0% {\n",
              "      border-color: transparent;\n",
              "      border-bottom-color: var(--fill-color);\n",
              "      border-left-color: var(--fill-color);\n",
              "    }\n",
              "    20% {\n",
              "      border-color: transparent;\n",
              "      border-left-color: var(--fill-color);\n",
              "      border-top-color: var(--fill-color);\n",
              "    }\n",
              "    30% {\n",
              "      border-color: transparent;\n",
              "      border-left-color: var(--fill-color);\n",
              "      border-top-color: var(--fill-color);\n",
              "      border-right-color: var(--fill-color);\n",
              "    }\n",
              "    40% {\n",
              "      border-color: transparent;\n",
              "      border-right-color: var(--fill-color);\n",
              "      border-top-color: var(--fill-color);\n",
              "    }\n",
              "    60% {\n",
              "      border-color: transparent;\n",
              "      border-right-color: var(--fill-color);\n",
              "    }\n",
              "    80% {\n",
              "      border-color: transparent;\n",
              "      border-right-color: var(--fill-color);\n",
              "      border-bottom-color: var(--fill-color);\n",
              "    }\n",
              "    90% {\n",
              "      border-color: transparent;\n",
              "      border-bottom-color: var(--fill-color);\n",
              "    }\n",
              "  }\n",
              "</style>\n",
              "\n",
              "  <script>\n",
              "    async function quickchart(key) {\n",
              "      const quickchartButtonEl =\n",
              "        document.querySelector('#' + key + ' button');\n",
              "      quickchartButtonEl.disabled = true;  // To prevent multiple clicks.\n",
              "      quickchartButtonEl.classList.add('colab-df-spinner');\n",
              "      try {\n",
              "        const charts = await google.colab.kernel.invokeFunction(\n",
              "            'suggestCharts', [key], {});\n",
              "      } catch (error) {\n",
              "        console.error('Error during call to suggestCharts:', error);\n",
              "      }\n",
              "      quickchartButtonEl.classList.remove('colab-df-spinner');\n",
              "      quickchartButtonEl.classList.add('colab-df-quickchart-complete');\n",
              "    }\n",
              "    (() => {\n",
              "      let quickchartButtonEl =\n",
              "        document.querySelector('#df-f04650da-b544-44c5-a117-b8a873945c48 button');\n",
              "      quickchartButtonEl.style.display =\n",
              "        google.colab.kernel.accessAllowed ? 'block' : 'none';\n",
              "    })();\n",
              "  </script>\n",
              "</div>\n",
              "    </div>\n",
              "  </div>\n"
            ]
          },
          "metadata": {},
          "execution_count": 68
        }
      ]
    },
    {
      "cell_type": "markdown",
      "source": [
        "Columns:\n",
        "1. Area: Returns the number of pixels within the boundaries of the rice grain.\n",
        "2. Perimeter: Calculates the circumference by calculating the distance between pixels around the boundaries of the rice grain.\n",
        "3. Major Axis Length: The longest line that can be drawn on the rice grain, i.e. the main axis distance, gives.\n",
        "4. Minor Axis Length: The shortest line that can be drawn on the rice grain, i.e. the small axis distance, gives.\n",
        "5. Eccentricity: It measures how round the ellipse, which has the same moments as the rice grain, is.\n",
        "6. Convex Area: Returns the pixel count of the smallest convex shell of the region formed by the rice grain.\n",
        "7. Extent: Returns the ratio of the region formed by the rice grain to the bounding box pixels\n",
        "8. Class: Commeo and Osmancik."
      ],
      "metadata": {
        "id": "hxVH3ws5t89T"
      }
    },
    {
      "cell_type": "markdown",
      "source": [
        "# Simple Regression"
      ],
      "metadata": {
        "id": "XQNe4QsSQPfa"
      }
    },
    {
      "cell_type": "code",
      "source": [
        "import statsmodels.api as sm\n",
        "\n",
        "# Assuming your dataframe is named 'df'\n",
        "X = sm.add_constant(df['Area'])  # Adds a constant term to the predictor\n",
        "y = df['Eccentricity']\n",
        "\n",
        "model = sm.OLS(y, X)\n",
        "results = model.fit()\n",
        "\n",
        "print(results.summary())\n"
      ],
      "metadata": {
        "colab": {
          "base_uri": "https://localhost:8080/"
        },
        "id": "zUGfX8WMk4yc",
        "outputId": "88cf395f-83d8-441d-bbf0-44482efcc235"
      },
      "execution_count": 69,
      "outputs": [
        {
          "output_type": "stream",
          "name": "stdout",
          "text": [
            "                            OLS Regression Results                            \n",
            "==============================================================================\n",
            "Dep. Variable:           Eccentricity   R-squared:                       0.124\n",
            "Model:                            OLS   Adj. R-squared:                  0.124\n",
            "Method:                 Least Squares   F-statistic:                     538.9\n",
            "Date:                Sat, 11 Nov 2023   Prob (F-statistic):          1.32e-111\n",
            "Time:                        04:32:14   Log-Likelihood:                 9598.6\n",
            "No. Observations:                3810   AIC:                        -1.919e+04\n",
            "Df Residuals:                    3808   BIC:                        -1.918e+04\n",
            "Df Model:                           1                                         \n",
            "Covariance Type:            nonrobust                                         \n",
            "==============================================================================\n",
            "                 coef    std err          t      P>|t|      [0.025      0.975]\n",
            "------------------------------------------------------------------------------\n",
            "const          0.8333      0.002    357.572      0.000       0.829       0.838\n",
            "Area        4.231e-06   1.82e-07     23.214      0.000    3.87e-06    4.59e-06\n",
            "==============================================================================\n",
            "Omnibus:                      106.513   Durbin-Watson:                   1.764\n",
            "Prob(Omnibus):                  0.000   Jarque-Bera (JB):              126.847\n",
            "Skew:                          -0.358   Prob(JB):                     2.86e-28\n",
            "Kurtosis:                       3.536   Cond. No.                     9.44e+04\n",
            "==============================================================================\n",
            "\n",
            "Notes:\n",
            "[1] Standard Errors assume that the covariance matrix of the errors is correctly specified.\n",
            "[2] The condition number is large, 9.44e+04. This might indicate that there are\n",
            "strong multicollinearity or other numerical problems.\n"
          ]
        }
      ]
    },
    {
      "cell_type": "markdown",
      "source": [
        "## Checking Assumptions"
      ],
      "metadata": {
        "id": "lW_Q6axAQhE5"
      }
    },
    {
      "cell_type": "markdown",
      "source": [
        "\n",
        "\n",
        "> Assessing linearity of the relationship\n",
        "\n"
      ],
      "metadata": {
        "id": "OfqsFgKFqJ3h"
      }
    },
    {
      "cell_type": "code",
      "source": [
        "# Assessing linearity of the relationship\n",
        "stat, p_value = linear_rainbow(results)\n",
        "print(f\"Rainbow Test: stat={stat}, p-value={p_value}\")"
      ],
      "metadata": {
        "colab": {
          "base_uri": "https://localhost:8080/"
        },
        "id": "Go_paMZSm0mR",
        "outputId": "07c9740a-b46c-46d5-eea4-7ca342a01e1f"
      },
      "execution_count": 75,
      "outputs": [
        {
          "output_type": "stream",
          "name": "stdout",
          "text": [
            "Rainbow Test: stat=0.9562731594668932, p-value=0.8353033397451335\n"
          ]
        }
      ]
    },
    {
      "cell_type": "code",
      "source": [
        "# Plot observed vs fitted values\n",
        "plt.figure(figsize=(10, 6))\n",
        "sns.scatterplot(x=df['Eccentricity'], y=fitted)\n",
        "plt.xlabel('Observed Values')\n",
        "plt.ylabel('Fitted Values')\n",
        "plt.title('Observed vs Fitted Values')\n",
        "plt.plot([min(df['Eccentricity']), max(df['Eccentricity'])], [min(fitted), max(fitted)], color='red', linestyle='--')\n",
        "plt.show()\n",
        "\n"
      ],
      "metadata": {
        "colab": {
          "base_uri": "https://localhost:8080/",
          "height": 564
        },
        "id": "JxjYjxWLm11h",
        "outputId": "bb6a105e-d74c-4cb2-9cd8-9da72196ed38"
      },
      "execution_count": 71,
      "outputs": [
        {
          "output_type": "display_data",
          "data": {
            "text/plain": [
              "<Figure size 1000x600 with 1 Axes>"
            ],
            "image/png": "[encoded data removed]"
          },
          "metadata": {}
        }
      ]
    },
    {
      "cell_type": "markdown",
      "source": [
        "\n",
        "\n",
        "> Assessing Normality of Residuals\n",
        "\n"
      ],
      "metadata": {
        "id": "r8fKpWi4qQ2o"
      }
    },
    {
      "cell_type": "code",
      "source": [
        "# Assessing normality of the residuals\n",
        "W, p_value = shapiro(residuals)\n",
        "print(f\"Shapiro-Wilk Test: W={W}, p-value={p_value}\")"
      ],
      "metadata": {
        "colab": {
          "base_uri": "https://localhost:8080/"
        },
        "id": "UJe4T-qpqVWA",
        "outputId": "849872da-df20-4e57-fbae-7566032af7c7"
      },
      "execution_count": 73,
      "outputs": [
        {
          "output_type": "stream",
          "name": "stdout",
          "text": [
            "Shapiro-Wilk Test: W=0.9456958174705505, p-value=2.636219278429053e-06\n"
          ]
        }
      ]
    },
    {
      "cell_type": "code",
      "source": [
        "# Plot Q-Q plot of residuals\n",
        "plt.figure(figsize=(10, 6))\n",
        "stats.probplot(residuals, plot=plt)\n",
        "plt.title('Q-Q Plot of Residuals')\n",
        "plt.show()"
      ],
      "metadata": {
        "colab": {
          "base_uri": "https://localhost:8080/",
          "height": 564
        },
        "id": "EHmdQdGaqY7z",
        "outputId": "8431ed0d-e26f-4b9c-a54c-8239ea74821c"
      },
      "execution_count": 74,
      "outputs": [
        {
          "output_type": "display_data",
          "data": {
            "text/plain": [
              "<Figure size 1000x600 with 1 Axes>"
            ],
            "image/png": "[encoded data removed]"
          },
          "metadata": {}
        }
      ]
    },
    {
      "cell_type": "markdown",
      "source": [
        "\n",
        "\n",
        "> Assessing the Homogeneity of Variance of Residuals\n",
        "\n"
      ],
      "metadata": {
        "id": "3-PQeHLqqn9w"
      }
    },
    {
      "cell_type": "code",
      "source": [
        "# Assessing the homogeneity of variance of the residuals\n",
        "gq_test = het_goldfeldquandt(residuals, X)\n",
        "print(f\"Goldfeld-Quandt Test: F-statistic={gq_test[0]}, p-value={gq_test[1]}\")"
      ],
      "metadata": {
        "colab": {
          "base_uri": "https://localhost:8080/"
        },
        "id": "WB7ipU4Fqp0S",
        "outputId": "fdb50383-dcc1-43f7-ea52-3143f433b261"
      },
      "execution_count": 84,
      "outputs": [
        {
          "output_type": "stream",
          "name": "stdout",
          "text": [
            "Goldfeld-Quandt Test: F-statistic=1.328848944684255, p-value=3.00548981419672e-10\n"
          ]
        }
      ]
    },
    {
      "cell_type": "markdown",
      "source": [
        "## Analysis\n",
        "Linearity:\n",
        "\n",
        "\n",
        "> p-value: 0.835\n",
        "\n",
        "\n",
        "The p-value associated with the test for linearity was greater than 0.05 (p > 0.05), suggesting insufficient evidence to reject the null hypothesis. Therefore, we fail to reject the assumption of linearity, indicating that there is no significant evidence that the relationship between variables is nonlinear.\n",
        "\n",
        "Normality:\n",
        "\n",
        "\n",
        "> p-value: 2.636219278429053e-06\n",
        "\n",
        "\n",
        "The p-value from the Shapiro-Wilk test was less than 0.05 (p < 0.05), providing evidence to reject the null hypothesis. This suggests that the data may not follow a normal distribution and the results are statistically significant.\n",
        "\n",
        "Homogeneity of Variance:\n",
        "\n",
        "\n",
        "> p-value: 3.00548981419672e-10\n",
        "\n",
        "\n",
        "The p-value obtained from the Goldfeld-Quandt test is extremely small (p < 0.05), indicating we reject the null hypothesis. Therefore, there is significant evidence to suggest that the variance of residuals is not constant across different levels of the independent variable.\n",
        "\n",
        "Results of Linear Regression:\n",
        "\n",
        "\n",
        "> R-squared: 0.124\n",
        "\n",
        "\n",
        "> p-value: 0.000\n",
        "\n",
        "\n",
        "\n",
        "\n",
        "R-squared measures the proportion of the variance in the dependent variable.The R-squared value of 0.278 obtained from the linear regression indicates a weak association between the Area and Eccentricity variables. Additionally, 12.4% of the variability in Eccentricity based on the variation in Area. The p-value of the Area is less than 0.05 (p < 0.05), indicating there is a statistically signficant relation between Area and Eccentricity."
      ],
      "metadata": {
        "id": "miaZ-y-1Qmcw"
      }
    },
    {
      "cell_type": "markdown",
      "source": [
        "# Multiple Regression"
      ],
      "metadata": {
        "id": "OG2hdU8IQSNk"
      }
    },
    {
      "cell_type": "code",
      "source": [],
      "metadata": {
        "id": "4YnHUD-NQcAV"
      },
      "execution_count": null,
      "outputs": []
    },
    {
      "cell_type": "markdown",
      "source": [
        "## Checking Assumptions"
      ],
      "metadata": {
        "id": "IXjG5gr1Qomo"
      }
    },
    {
      "cell_type": "code",
      "source": [],
      "metadata": {
        "id": "wUJXSSwmQrGV"
      },
      "execution_count": null,
      "outputs": []
    },
    {
      "cell_type": "markdown",
      "source": [
        "## Analysis"
      ],
      "metadata": {
        "id": "kqNeaMLBQriT"
      }
    }
  ]
}